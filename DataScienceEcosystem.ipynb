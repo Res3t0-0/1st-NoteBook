{
 "cells": [
  {
   "cell_type": "markdown",
   "id": "13e317cf-505a-453c-9647-e789fb70df5b",
   "metadata": {},
   "source": [
    "# Data Science Tools and Ecosystem"
   ]
  },
  {
   "cell_type": "markdown",
   "id": "d8e61fda-50eb-46d0-92f7-c29d653726a5",
   "metadata": {},
   "source": [
    "In this notebook, Data Science Tools and Ecosystem are summarized."
   ]
  },
  {
   "cell_type": "markdown",
   "id": "f40c8906-2095-4a9c-8077-1d93f9ad2a7f",
   "metadata": {},
   "source": [
    "Some of the popular languages that Data Scientists use are:\n",
    "1. Python\n",
    "2. R\n",
    "3. SQL\n"
   ]
  },
  {
   "cell_type": "markdown",
   "id": "e952ca93-c6e9-483c-8ca5-37ba1106488d",
   "metadata": {},
   "source": [
    "Some of the commonly used libraries used by Data Scientists include:\n",
    "1. Numpy\n",
    "2. Pandas\n",
    "3. MatPlotLib"
   ]
  },
  {
   "cell_type": "markdown",
   "id": "4bb1d49d-aa78-4279-ac1b-da2a028743ab",
   "metadata": {},
   "source": [
    "| Data Science Tools |\n",
    "|--------------------|\n",
    "| Jupyter Notebooks |\n",
    "| R Studio |\n",
    "| Git |"
   ]
  },
  {
   "cell_type": "markdown",
   "id": "cb6abed8-d91c-444f-ac4e-e308b122c279",
   "metadata": {},
   "source": [
    "Below are a few examples of evaluating arithmetic expressions in Python\n"
   ]
  },
  {
   "cell_type": "code",
   "execution_count": 1,
   "id": "895d4017-86de-41da-a8d9-9d396125b70e",
   "metadata": {},
   "outputs": [
    {
     "data": {
      "text/plain": [
       "17"
      ]
     },
     "execution_count": 1,
     "metadata": {},
     "output_type": "execute_result"
    }
   ],
   "source": [
    "(3*4)+5"
   ]
  },
  {
   "cell_type": "code",
   "execution_count": 2,
   "id": "68a71156-7649-4418-8703-39171a986f43",
   "metadata": {},
   "outputs": [],
   "source": [
    "#This will convert 200 minutes to hours by diving by 60"
   ]
  },
  {
   "cell_type": "code",
   "execution_count": 3,
   "id": "01a62d5f-50ca-4647-b8c7-ce6b0d21942b",
   "metadata": {},
   "outputs": [
    {
     "name": "stdin",
     "output_type": "stream",
     "text": [
      "Enter time in minutes:  150\n"
     ]
    },
    {
     "name": "stdout",
     "output_type": "stream",
     "text": [
      "Time in hours:  2.5\n"
     ]
    }
   ],
   "source": [
    "t_m = int(input(\"Enter time in minutes: \"))\n",
    "t_h = t_m/60\n",
    "print(\"Time in hours: \",t_h)"
   ]
  },
  {
   "cell_type": "markdown",
   "id": "053f8a7b-aee5-429a-9561-680290a282c2",
   "metadata": {},
   "source": [
    "**Objectives**\n",
    "- python\n",
    "- R\n",
    "- SQL"
   ]
  },
  {
   "cell_type": "markdown",
   "id": "fc45f1eb-9436-4c00-aa69-06025d673b0a",
   "metadata": {},
   "source": [
    "## Author\n",
    "shabarish"
   ]
  },
  {
   "cell_type": "code",
   "execution_count": null,
   "id": "a14b63be-4c01-4317-8c02-34e38622e18f",
   "metadata": {},
   "outputs": [],
   "source": []
  }
 ],
 "metadata": {
  "kernelspec": {
   "display_name": "Python 3 (ipykernel)",
   "language": "python",
   "name": "python3"
  },
  "language_info": {
   "codemirror_mode": {
    "name": "ipython",
    "version": 3
   },
   "file_extension": ".py",
   "mimetype": "text/x-python",
   "name": "python",
   "nbconvert_exporter": "python",
   "pygments_lexer": "ipython3",
   "version": "3.12.4"
  }
 },
 "nbformat": 4,
 "nbformat_minor": 5
}
